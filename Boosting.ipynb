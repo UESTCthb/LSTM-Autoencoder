{
 "cells": [
  {
   "cell_type": "code",
   "execution_count": 1,
   "metadata": {},
   "outputs": [],
   "source": [
    "%load_ext autoreload\n",
    "%autoreload 2"
   ]
  },
  {
   "cell_type": "code",
   "execution_count": 2,
   "metadata": {},
   "outputs": [
    {
     "data": {
      "text/html": [
       "        <script type=\"text/javascript\">\n",
       "        window.PlotlyConfig = {MathJaxConfig: 'local'};\n",
       "        if (window.MathJax && window.MathJax.Hub && window.MathJax.Hub.Config) {window.MathJax.Hub.Config({SVG: {font: \"STIX-Web\"}});}\n",
       "        if (typeof require !== 'undefined') {\n",
       "        require.undef(\"plotly\");\n",
       "        requirejs.config({\n",
       "            paths: {\n",
       "                'plotly': ['https://cdn.plot.ly/plotly-2.24.1.min']\n",
       "            }\n",
       "        });\n",
       "        require(['plotly'], function(Plotly) {\n",
       "            window._Plotly = Plotly;\n",
       "        });\n",
       "        }\n",
       "        </script>\n",
       "        "
      ]
     },
     "metadata": {},
     "output_type": "display_data"
    }
   ],
   "source": [
    "import warnings\n",
    "\n",
    "import numpy as np # linear algebra\n",
    "import pandas as pd # data processing, CSV file I/O (e.g. pd.read_csv)\n",
    "import seaborn as sns # visualization library\n",
    "import matplotlib.pyplot as plt # visualization library\n",
    "from plotly.offline import init_notebook_mode, iplot # plotly offline mode\n",
    "import plotly.graph_objs as go # plotly graphical object\n",
    "\n",
    "import src.data.timeseries_eda as eda \n",
    "\n",
    "init_notebook_mode(connected=True)\n",
    "# ignore filters\n",
    "warnings.filterwarnings(\"ignore\") # if there is a warning after some codes, this will avoid us to see them.\n",
    "plt.style.use('ggplot')"
   ]
  },
  {
   "cell_type": "code",
   "execution_count": 3,
   "metadata": {},
   "outputs": [],
   "source": [
    "symbol = 'XAUUSD'"
   ]
  },
  {
   "cell_type": "code",
   "execution_count": 4,
   "metadata": {},
   "outputs": [
    {
     "data": {
      "text/html": [
       "<div>\n",
       "<style scoped>\n",
       "    .dataframe tbody tr th:only-of-type {\n",
       "        vertical-align: middle;\n",
       "    }\n",
       "\n",
       "    .dataframe tbody tr th {\n",
       "        vertical-align: top;\n",
       "    }\n",
       "\n",
       "    .dataframe thead th {\n",
       "        text-align: right;\n",
       "    }\n",
       "</style>\n",
       "<table border=\"1\" class=\"dataframe\">\n",
       "  <thead>\n",
       "    <tr style=\"text-align: right;\">\n",
       "      <th></th>\n",
       "      <th>open_bid</th>\n",
       "      <th>low_bid</th>\n",
       "      <th>high_bid</th>\n",
       "      <th>close_bid</th>\n",
       "      <th>volume_bid</th>\n",
       "      <th>open_ask</th>\n",
       "      <th>low_ask</th>\n",
       "      <th>high_ask</th>\n",
       "      <th>close_ask</th>\n",
       "      <th>volume_ask</th>\n",
       "      <th>avg_spread</th>\n",
       "      <th>tick_number</th>\n",
       "    </tr>\n",
       "  </thead>\n",
       "  <tbody>\n",
       "    <tr>\n",
       "      <th>0</th>\n",
       "      <td>1183.410034</td>\n",
       "      <td>1183.409058</td>\n",
       "      <td>1187.402954</td>\n",
       "      <td>1186.664062</td>\n",
       "      <td>0.54846</td>\n",
       "      <td>1185.050049</td>\n",
       "      <td>1184.531982</td>\n",
       "      <td>1187.847046</td>\n",
       "      <td>1187.108032</td>\n",
       "      <td>0.64480</td>\n",
       "      <td>0.511757</td>\n",
       "      <td>1476</td>\n",
       "    </tr>\n",
       "    <tr>\n",
       "      <th>1</th>\n",
       "      <td>1186.684082</td>\n",
       "      <td>1184.260986</td>\n",
       "      <td>1188.281982</td>\n",
       "      <td>1186.182007</td>\n",
       "      <td>2.10916</td>\n",
       "      <td>1187.119995</td>\n",
       "      <td>1184.578003</td>\n",
       "      <td>1188.621094</td>\n",
       "      <td>1186.478027</td>\n",
       "      <td>2.17188</td>\n",
       "      <td>0.325975</td>\n",
       "      <td>4428</td>\n",
       "    </tr>\n",
       "    <tr>\n",
       "      <th>2</th>\n",
       "      <td>1186.260986</td>\n",
       "      <td>1184.480957</td>\n",
       "      <td>1187.481079</td>\n",
       "      <td>1185.842041</td>\n",
       "      <td>3.02581</td>\n",
       "      <td>1186.568970</td>\n",
       "      <td>1184.788940</td>\n",
       "      <td>1187.761963</td>\n",
       "      <td>1186.141968</td>\n",
       "      <td>2.69611</td>\n",
       "      <td>0.299324</td>\n",
       "      <td>6195</td>\n",
       "    </tr>\n",
       "    <tr>\n",
       "      <th>3</th>\n",
       "      <td>1185.881104</td>\n",
       "      <td>1180.581055</td>\n",
       "      <td>1187.940918</td>\n",
       "      <td>1182.711060</td>\n",
       "      <td>7.58135</td>\n",
       "      <td>1186.141968</td>\n",
       "      <td>1180.890991</td>\n",
       "      <td>1188.302002</td>\n",
       "      <td>1182.980957</td>\n",
       "      <td>8.02604</td>\n",
       "      <td>0.277019</td>\n",
       "      <td>13557</td>\n",
       "    </tr>\n",
       "    <tr>\n",
       "      <th>4</th>\n",
       "      <td>1182.851074</td>\n",
       "      <td>1167.430054</td>\n",
       "      <td>1194.330933</td>\n",
       "      <td>1187.940918</td>\n",
       "      <td>16.77736</td>\n",
       "      <td>1182.980957</td>\n",
       "      <td>1167.908936</td>\n",
       "      <td>1194.708008</td>\n",
       "      <td>1188.234985</td>\n",
       "      <td>18.69664</td>\n",
       "      <td>0.277561</td>\n",
       "      <td>33036</td>\n",
       "    </tr>\n",
       "  </tbody>\n",
       "</table>\n",
       "</div>"
      ],
      "text/plain": [
       "      open_bid      low_bid     high_bid    close_bid  volume_bid  \\\n",
       "0  1183.410034  1183.409058  1187.402954  1186.664062     0.54846   \n",
       "1  1186.684082  1184.260986  1188.281982  1186.182007     2.10916   \n",
       "2  1186.260986  1184.480957  1187.481079  1185.842041     3.02581   \n",
       "3  1185.881104  1180.581055  1187.940918  1182.711060     7.58135   \n",
       "4  1182.851074  1167.430054  1194.330933  1187.940918    16.77736   \n",
       "\n",
       "      open_ask      low_ask     high_ask    close_ask  volume_ask  avg_spread  \\\n",
       "0  1185.050049  1184.531982  1187.847046  1187.108032     0.64480    0.511757   \n",
       "1  1187.119995  1184.578003  1188.621094  1186.478027     2.17188    0.325975   \n",
       "2  1186.568970  1184.788940  1187.761963  1186.141968     2.69611    0.299324   \n",
       "3  1186.141968  1180.890991  1188.302002  1182.980957     8.02604    0.277019   \n",
       "4  1182.980957  1167.908936  1194.708008  1188.234985    18.69664    0.277561   \n",
       "\n",
       "   tick_number  \n",
       "0         1476  \n",
       "1         4428  \n",
       "2         6195  \n",
       "3        13557  \n",
       "4        33036  "
      ]
     },
     "execution_count": 4,
     "metadata": {},
     "output_type": "execute_result"
    }
   ],
   "source": [
    "market_data = pd.read_csv(f'data/{symbol}_4h.csv')\n",
    "market_data.head()"
   ]
  },
  {
   "cell_type": "code",
   "execution_count": 5,
   "metadata": {},
   "outputs": [],
   "source": [
    "from src.data.feature_engineering import PercentageFeatureAdder, BollingerBandAdder, TargetAdder, Scalar\n",
    "\n",
    "percentage_feature_adder = PercentageFeatureAdder(1)\n",
    "bidbb_adder = BollingerBandAdder(kind = 'bid')\n",
    "askbb_adder = BollingerBandAdder(kind = 'ask')\n",
    "target_adder = TargetAdder(step_number=1 , look_back_steps =2)\n",
    "\n",
    "pipeline = [bidbb_adder, askbb_adder, percentage_feature_adder, target_adder]"
   ]
  },
  {
   "cell_type": "code",
   "execution_count": 6,
   "metadata": {},
   "outputs": [
    {
     "name": "stdout",
     "output_type": "stream",
     "text": [
      "Transformation number: 1\n",
      "Transformation number: 2\n",
      "Transformation number: 3\n",
      "Transformation number: 4\n"
     ]
    }
   ],
   "source": [
    "transformed = market_data.copy().dropna()\n",
    "for idx , trans in enumerate(pipeline):\n",
    "    print(f'Transformation number: {idx + 1}')\n",
    "    transformed = trans.transform(transformed)"
   ]
  },
  {
   "cell_type": "code",
   "execution_count": 7,
   "metadata": {},
   "outputs": [],
   "source": [
    "features = []\n",
    "for col in transformed.columns:\n",
    "    features.append(col)\n",
    "feature = features[4:5]+features[9:-4]+features[-2:]\n",
    "target = features[-4:-2]"
   ]
  },
  {
   "cell_type": "code",
   "execution_count": 8,
   "metadata": {},
   "outputs": [],
   "source": [
    "from sklearn.model_selection import train_test_split\n",
    "train_features, test_features, train_target, test_target = train_test_split(\n",
    "    transformed[feature].dropna(), transformed[target].dropna(), test_size=0.2, random_state=4\n",
    ")"
   ]
  },
  {
   "cell_type": "code",
   "execution_count": 9,
   "metadata": {},
   "outputs": [],
   "source": [
    "train_features = train_features.shift(-1)"
   ]
  },
  {
   "cell_type": "code",
   "execution_count": 11,
   "metadata": {},
   "outputs": [
    {
     "name": "stdout",
     "output_type": "stream",
     "text": [
      "[21:45:20] WARNING: ../src/learner.cc:767: \n",
      "Parameters: { \"boosting_type\" } are not used.\n",
      "\n"
     ]
    },
    {
     "data": {
      "text/html": [
       "<style>#sk-container-id-1 {color: black;}#sk-container-id-1 pre{padding: 0;}#sk-container-id-1 div.sk-toggleable {background-color: white;}#sk-container-id-1 label.sk-toggleable__label {cursor: pointer;display: block;width: 100%;margin-bottom: 0;padding: 0.3em;box-sizing: border-box;text-align: center;}#sk-container-id-1 label.sk-toggleable__label-arrow:before {content: \"▸\";float: left;margin-right: 0.25em;color: #696969;}#sk-container-id-1 label.sk-toggleable__label-arrow:hover:before {color: black;}#sk-container-id-1 div.sk-estimator:hover label.sk-toggleable__label-arrow:before {color: black;}#sk-container-id-1 div.sk-toggleable__content {max-height: 0;max-width: 0;overflow: hidden;text-align: left;background-color: #f0f8ff;}#sk-container-id-1 div.sk-toggleable__content pre {margin: 0.2em;color: black;border-radius: 0.25em;background-color: #f0f8ff;}#sk-container-id-1 input.sk-toggleable__control:checked~div.sk-toggleable__content {max-height: 200px;max-width: 100%;overflow: auto;}#sk-container-id-1 input.sk-toggleable__control:checked~label.sk-toggleable__label-arrow:before {content: \"▾\";}#sk-container-id-1 div.sk-estimator input.sk-toggleable__control:checked~label.sk-toggleable__label {background-color: #d4ebff;}#sk-container-id-1 div.sk-label input.sk-toggleable__control:checked~label.sk-toggleable__label {background-color: #d4ebff;}#sk-container-id-1 input.sk-hidden--visually {border: 0;clip: rect(1px 1px 1px 1px);clip: rect(1px, 1px, 1px, 1px);height: 1px;margin: -1px;overflow: hidden;padding: 0;position: absolute;width: 1px;}#sk-container-id-1 div.sk-estimator {font-family: monospace;background-color: #f0f8ff;border: 1px dotted black;border-radius: 0.25em;box-sizing: border-box;margin-bottom: 0.5em;}#sk-container-id-1 div.sk-estimator:hover {background-color: #d4ebff;}#sk-container-id-1 div.sk-parallel-item::after {content: \"\";width: 100%;border-bottom: 1px solid gray;flex-grow: 1;}#sk-container-id-1 div.sk-label:hover label.sk-toggleable__label {background-color: #d4ebff;}#sk-container-id-1 div.sk-serial::before {content: \"\";position: absolute;border-left: 1px solid gray;box-sizing: border-box;top: 0;bottom: 0;left: 50%;z-index: 0;}#sk-container-id-1 div.sk-serial {display: flex;flex-direction: column;align-items: center;background-color: white;padding-right: 0.2em;padding-left: 0.2em;position: relative;}#sk-container-id-1 div.sk-item {position: relative;z-index: 1;}#sk-container-id-1 div.sk-parallel {display: flex;align-items: stretch;justify-content: center;background-color: white;position: relative;}#sk-container-id-1 div.sk-item::before, #sk-container-id-1 div.sk-parallel-item::before {content: \"\";position: absolute;border-left: 1px solid gray;box-sizing: border-box;top: 0;bottom: 0;left: 50%;z-index: -1;}#sk-container-id-1 div.sk-parallel-item {display: flex;flex-direction: column;z-index: 1;position: relative;background-color: white;}#sk-container-id-1 div.sk-parallel-item:first-child::after {align-self: flex-end;width: 50%;}#sk-container-id-1 div.sk-parallel-item:last-child::after {align-self: flex-start;width: 50%;}#sk-container-id-1 div.sk-parallel-item:only-child::after {width: 0;}#sk-container-id-1 div.sk-dashed-wrapped {border: 1px dashed gray;margin: 0 0.4em 0.5em 0.4em;box-sizing: border-box;padding-bottom: 0.4em;background-color: white;}#sk-container-id-1 div.sk-label label {font-family: monospace;font-weight: bold;display: inline-block;line-height: 1.2em;}#sk-container-id-1 div.sk-label-container {text-align: center;}#sk-container-id-1 div.sk-container {/* jupyter's `normalize.less` sets `[hidden] { display: none; }` but bootstrap.min.css set `[hidden] { display: none !important; }` so we also need the `!important` here to be able to override the default hidden behavior on the sphinx rendered scikit-learn.org. See: https://github.com/scikit-learn/scikit-learn/issues/21755 */display: inline-block !important;position: relative;}#sk-container-id-1 div.sk-text-repr-fallback {display: none;}</style><div id=\"sk-container-id-1\" class=\"sk-top-container\"><div class=\"sk-text-repr-fallback\"><pre>XGBRegressor(base_score=None, booster=None, boosting_type=&#x27;gbdt&#x27;,\n",
       "             callbacks=None, colsample_bylevel=None, colsample_bynode=None,\n",
       "             colsample_bytree=0.8, early_stopping_rounds=None,\n",
       "             enable_categorical=False, eval_metric=None, feature_types=None,\n",
       "             gamma=0, gpu_id=None, grow_policy=None, importance_type=None,\n",
       "             interaction_constraints=None, learning_rate=0.05, max_bin=None,\n",
       "             max_cat_threshold=None, max_cat_to_onehot=None,\n",
       "             max_delta_step=None, max_depth=3, max_leaves=None,\n",
       "             min_child_weight=1, missing=nan, monotone_constraints=None,\n",
       "             n_estimators=2000, n_jobs=None, num_parallel_tree=None,\n",
       "             predictor=None, ...)</pre><b>In a Jupyter environment, please rerun this cell to show the HTML representation or trust the notebook. <br />On GitHub, the HTML representation is unable to render, please try loading this page with nbviewer.org.</b></div><div class=\"sk-container\" hidden><div class=\"sk-item\"><div class=\"sk-estimator sk-toggleable\"><input class=\"sk-toggleable__control sk-hidden--visually\" id=\"sk-estimator-id-1\" type=\"checkbox\" checked><label for=\"sk-estimator-id-1\" class=\"sk-toggleable__label sk-toggleable__label-arrow\">XGBRegressor</label><div class=\"sk-toggleable__content\"><pre>XGBRegressor(base_score=None, booster=None, boosting_type=&#x27;gbdt&#x27;,\n",
       "             callbacks=None, colsample_bylevel=None, colsample_bynode=None,\n",
       "             colsample_bytree=0.8, early_stopping_rounds=None,\n",
       "             enable_categorical=False, eval_metric=None, feature_types=None,\n",
       "             gamma=0, gpu_id=None, grow_policy=None, importance_type=None,\n",
       "             interaction_constraints=None, learning_rate=0.05, max_bin=None,\n",
       "             max_cat_threshold=None, max_cat_to_onehot=None,\n",
       "             max_delta_step=None, max_depth=3, max_leaves=None,\n",
       "             min_child_weight=1, missing=nan, monotone_constraints=None,\n",
       "             n_estimators=2000, n_jobs=None, num_parallel_tree=None,\n",
       "             predictor=None, ...)</pre></div></div></div></div></div>"
      ],
      "text/plain": [
       "XGBRegressor(base_score=None, booster=None, boosting_type='gbdt',\n",
       "             callbacks=None, colsample_bylevel=None, colsample_bynode=None,\n",
       "             colsample_bytree=0.8, early_stopping_rounds=None,\n",
       "             enable_categorical=False, eval_metric=None, feature_types=None,\n",
       "             gamma=0, gpu_id=None, grow_policy=None, importance_type=None,\n",
       "             interaction_constraints=None, learning_rate=0.05, max_bin=None,\n",
       "             max_cat_threshold=None, max_cat_to_onehot=None,\n",
       "             max_delta_step=None, max_depth=3, max_leaves=None,\n",
       "             min_child_weight=1, missing=nan, monotone_constraints=None,\n",
       "             n_estimators=2000, n_jobs=None, num_parallel_tree=None,\n",
       "             predictor=None, ...)"
      ]
     },
     "execution_count": 11,
     "metadata": {},
     "output_type": "execute_result"
    }
   ],
   "source": [
    "from src.models.boosting import XGB \n",
    "\n",
    "# Train the model\n",
    "xgb = XGB()\n",
    "model = xgb.xgb_model()\n",
    "model.fit(train_features, train_target)"
   ]
  },
  {
   "cell_type": "code",
   "execution_count": 12,
   "metadata": {},
   "outputs": [],
   "source": [
    "\n",
    "\n",
    "# Make predictions on the test set\n",
    "predictions = model.predict(test_features)"
   ]
  },
  {
   "cell_type": "code",
   "execution_count": 13,
   "metadata": {},
   "outputs": [
    {
     "data": {
      "text/plain": [
       "array([[0.23596518, 0.2596026 ],\n",
       "       [0.1641417 , 0.07490858],\n",
       "       [0.35870737, 0.12701744],\n",
       "       ...,\n",
       "       [0.29240873, 0.20692572],\n",
       "       [0.17060989, 0.21714103],\n",
       "       [0.11740733, 0.3667165 ]], dtype=float32)"
      ]
     },
     "execution_count": 13,
     "metadata": {},
     "output_type": "execute_result"
    }
   ],
   "source": [
    "predictions"
   ]
  },
  {
   "cell_type": "code",
   "execution_count": 15,
   "metadata": {},
   "outputs": [
    {
     "name": "stdout",
     "output_type": "stream",
     "text": [
      "0.21517598666415572\n"
     ]
    }
   ],
   "source": [
    "def xgb_quantile_eval(preds, labels, quantile=0.2):\n",
    "    \"\"\"\n",
    "    Customized evaluational metric that equals\n",
    "    to quantile regression loss (also known as\n",
    "    pinball loss).\n",
    "    Quantile regression is regression that\n",
    "    estimates a specified quantile of target's\n",
    "    distribution conditional on given features.\n",
    "    @type preds: numpy.ndarray\n",
    "    @type labels: numpy.ndarray\n",
    "    @type quantile: float\n",
    "    @rtype: float\n",
    "    \"\"\"\n",
    "    return np.nanmean(\n",
    "        (preds >= labels) * (1 - quantile) * (preds - labels) + (preds < labels) * quantile * (labels - preds)\n",
    "    )\n",
    "\n",
    "loss = xgb_quantile_eval(predictions,test_target,0.2)\n",
    "print(loss)"
   ]
  },
  {
   "cell_type": "code",
   "execution_count": null,
   "metadata": {},
   "outputs": [],
   "source": []
  }
 ],
 "metadata": {
  "kernelspec": {
   "display_name": "base",
   "language": "python",
   "name": "python3"
  },
  "language_info": {
   "codemirror_mode": {
    "name": "ipython",
    "version": 3
   },
   "file_extension": ".py",
   "mimetype": "text/x-python",
   "name": "python",
   "nbconvert_exporter": "python",
   "pygments_lexer": "ipython3",
   "version": "3.8.16"
  },
  "orig_nbformat": 4
 },
 "nbformat": 4,
 "nbformat_minor": 2
}
